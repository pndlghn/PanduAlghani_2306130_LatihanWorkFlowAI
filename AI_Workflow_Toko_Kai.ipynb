{
  "cells": [
    {
      "cell_type": "markdown",
      "metadata": {
        "id": "view-in-github",
        "colab_type": "text"
      },
      "source": [
        "<a href=\"https://colab.research.google.com/github/pndlghn/PanduAlghani_2306130_LatihanWorkFlowAI/blob/main/AI_Workflow_Toko_Kai.ipynb\" target=\"_parent\"><img src=\"https://colab.research.google.com/assets/colab-badge.svg\" alt=\"Open In Colab\"/></a>"
      ]
    },
    {
      "cell_type": "code",
      "execution_count": 13,
      "metadata": {
        "colab": {
          "base_uri": "https://localhost:8080/"
        },
        "id": "jnlGkkKSMeR4",
        "outputId": "f4c4e30b-4a02-4fef-d423-5038a2397a59"
      },
      "outputs": [
        {
          "output_type": "stream",
          "name": "stdout",
          "text": [
            "File csv berhasil dibuat dan disimpan sebagai 'data_penjualan.csv'! \n"
          ]
        }
      ],
      "source": [
        "import pandas as pd\n",
        "\n",
        "#membuat data penjualan toko\n",
        "data = {\n",
        "    \"date\": [\"2025-02-01\", \"2025-02-01\", \"2025-02-02\", \"2025-02-02\", \"2025-02-03\", \"2025-02-03\"],\n",
        "    \"product\": [\"Minyak Goreng\", \"Beras\", \"Gula\", \"Tepung\", \"Susu\", \"Telur\"],\n",
        "    \"sold\": [10, 5, 7, 3, 12, 8],\n",
        "    \"stock\": [20, 14, 55, 23, 42, 3],\n",
        "    \"price\": [27000, 15000, 150000, 150000, 11000, 27000 ],\n",
        "\n",
        "}\n",
        "# Simpan dalam DataFrame\n",
        "df = pd.DataFrame(data)\n",
        "\n",
        "# Simpan sebagai file CSV\n",
        "df.to_csv(\"data_penjualan.csv\", index=False)\n",
        "print(\"File csv berhasil dibuat dan disimpan sebagai 'data_penjualan.csv'! \")"
      ]
    },
    {
      "cell_type": "code",
      "execution_count": 14,
      "metadata": {
        "colab": {
          "base_uri": "https://localhost:8080/"
        },
        "id": "bukZOFzqSpBu",
        "outputId": "2ab82df1-4ebc-4af5-b781-ecba24e2cdbc"
      },
      "outputs": [
        {
          "output_type": "stream",
          "name": "stdout",
          "text": [
            "         date        product  sold  stock   price\n",
            "0  2025-02-01  Minyak Goreng    10     20   27000\n",
            "1  2025-02-01          Beras     5     14   15000\n",
            "2  2025-02-02           Gula     7     55  150000\n",
            "3  2025-02-02         Tepung     3     23  150000\n",
            "4  2025-02-03           Susu    12     42   11000\n"
          ]
        }
      ],
      "source": [
        "# Memebaca file CSV\n",
        "df = pd.read_csv(\"data_penjualan.csv\")\n",
        "\n",
        "# Menammpilan 5 data pertama\n",
        "print(df.head())"
      ]
    },
    {
      "cell_type": "code",
      "execution_count": 15,
      "metadata": {
        "colab": {
          "base_uri": "https://localhost:8080/"
        },
        "id": "HipU4IwhOWbJ",
        "outputId": "f8cd186c-2599-4468-9301-6597bd0e7fff"
      },
      "outputs": [
        {
          "output_type": "stream",
          "name": "stdout",
          "text": [
            "Requirement already satisfied: scikit_learn in /usr/local/lib/python3.11/dist-packages (1.6.1)\n",
            "Requirement already satisfied: numpy>=1.19.5 in /usr/local/lib/python3.11/dist-packages (from scikit_learn) (1.26.4)\n",
            "Requirement already satisfied: scipy>=1.6.0 in /usr/local/lib/python3.11/dist-packages (from scikit_learn) (1.13.1)\n",
            "Requirement already satisfied: joblib>=1.2.0 in /usr/local/lib/python3.11/dist-packages (from scikit_learn) (1.4.2)\n",
            "Requirement already satisfied: threadpoolctl>=3.1.0 in /usr/local/lib/python3.11/dist-packages (from scikit_learn) (3.5.0)\n"
          ]
        }
      ],
      "source": [
        "!pip install scikit_learn\n"
      ]
    },
    {
      "cell_type": "code",
      "execution_count": 16,
      "metadata": {
        "colab": {
          "base_uri": "https://localhost:8080/"
        },
        "id": "oD6ztD51T54s",
        "outputId": "e6ee1353-8fc7-4ea0-b265-9e106fe1379d"
      },
      "outputs": [
        {
          "output_type": "stream",
          "name": "stdout",
          "text": [
            "date       0\n",
            "product    0\n",
            "sold       0\n",
            "stock      0\n",
            "price      0\n",
            "dtype: int64\n",
            "        date        product  sold  stock   price  sales_amount  profit\n",
            "0 2025-02-01  Minyak Goreng    10     20   27000        270000  170000\n",
            "1 2025-02-01          Beras     5     14   15000         75000   25000\n",
            "2 2025-02-02           Gula     7     55  150000       1050000  980000\n",
            "3 2025-02-02         Tepung     3     23  150000        450000  420000\n",
            "4 2025-02-03           Susu    12     42   11000        132000   12000\n"
          ]
        }
      ],
      "source": [
        "# Cek apakah ada data yang kosong\n",
        "print(df.isnull().sum())\n",
        "\n",
        "#Konversi kolom \"Tanggal\" keformat date time\n",
        "df[\"date\"] = pd.to_datetime(df[\"date\"])\n",
        "\n",
        "#Menambahkan kolom \"total sales\"\n",
        "df[\"sales_amount\"] = df[\"sold\"] * df[\"price\"]\n",
        "\n",
        "#Menambahkan kolom \"profit\" (asumsi modal yang dikeluarkan per barang adalah 10000)\n",
        "df[\"profit\"] = df[\"sales_amount\"] - (df[\"sold\"] * 10000)\n",
        "\n",
        "#Menampilan\n",
        "print(df.head())"
      ]
    },
    {
      "cell_type": "code",
      "execution_count": 17,
      "metadata": {
        "colab": {
          "base_uri": "https://localhost:8080/"
        },
        "id": "B46cFWIQYmc_",
        "outputId": "aa88c1bd-b49b-4621-fc6b-f010893b5172"
      },
      "outputs": [
        {
          "output_type": "stream",
          "name": "stdout",
          "text": [
            "Akurasi Model:  1.0\n"
          ]
        }
      ],
      "source": [
        "from sklearn.model_selection import train_test_split\n",
        "from sklearn.tree import DecisionTreeClassifier\n",
        "from sklearn.metrics import accuracy_score\n",
        "\n",
        "#Memilih fitur x dan targer y\n",
        "x = df[[\"sold\", \"stock\"]]\n",
        "y = (df[\"stock\"] < 5).astype(int) # 1 jika stock urang dari 5, 0 jika cukup\n",
        "\n",
        "#split data menjadi train dan test\n",
        "x_train, x_test, y_train, y_test = train_test_split(x, y, test_size=0.2, random_state=42)\n",
        "\n",
        "#Membuat model decision tree\n",
        "model = DecisionTreeClassifier()\n",
        "model.fit(x_train, y_train)\n",
        "\n",
        "#evaluasi model\n",
        "y_pred = model.predict(x_test)\n",
        "print(\"Akurasi Model: \", accuracy_score(y_test, y_pred))\n",
        "\n"
      ]
    },
    {
      "cell_type": "code",
      "execution_count": 18,
      "metadata": {
        "colab": {
          "base_uri": "https://localhost:8080/"
        },
        "id": "0ODU6ZQ1bZc3",
        "outputId": "5fb203a9-615a-445e-ddae-565f9d5a67b5"
      },
      "outputs": [
        {
          "output_type": "stream",
          "name": "stdout",
          "text": [
            "Product perlu di restock!\n"
          ]
        }
      ],
      "source": [
        "#contoh produk baru (jumlah terjual 8, stok barang 3)\n",
        "\n",
        "new_product = pd.DataFrame([[8, 3]], columns=[\"sold\", \"stock\"])\n",
        "predict = model.predict(new_product)\n",
        "\n",
        "if predict[0] == 1:\n",
        "  print(\"Product perlu di restock!\")\n",
        "else:\n",
        "  print(\"Stok masih cukup\")"
      ]
    },
    {
      "cell_type": "code",
      "execution_count": 21,
      "metadata": {
        "colab": {
          "base_uri": "https://localhost:8080/",
          "height": 472
        },
        "id": "diyfOr5FcKFn",
        "outputId": "ce7fb511-0e69-43a5-d738-5e674ff1780a"
      },
      "outputs": [
        {
          "output_type": "display_data",
          "data": {
            "text/plain": [
              "<Figure size 640x480 with 2 Axes>"
            ],
            "image/png": "[encoded data removed]"
          },
          "metadata": {}
        }
      ],
      "source": [
        "import matplotlib.pyplot as plt\n",
        "\n",
        "plt.scatter(df[\"sold\"], df[\"stock\"], c=df[\"profit\"], cmap=\"coolwarm\")\n",
        "plt.xlabel(\"sold\")\n",
        "plt.ylabel(\"stock\")\n",
        "plt.title(\"Store Sales Analysis\")\n",
        "plt.colorbar(label=\"profit\")\n",
        "plt.show()\n"
      ]
    }
  ],
  "metadata": {
    "colab": {
      "provenance": [],
      "mount_file_id": "1JoW26LH7nNqqwG02pJzHnZ7rEuZUU7zh",
      "authorship_tag": "ABX9TyMSOj1NlZ+For1/7MmK7vdO",
      "include_colab_link": true
    },
    "kernelspec": {
      "display_name": "Python 3",
      "name": "python3"
    },
    "language_info": {
      "name": "python"
    }
  },
  "nbformat": 4,
  "nbformat_minor": 0
}